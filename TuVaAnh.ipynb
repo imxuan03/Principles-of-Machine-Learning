{
  "nbformat": 4,
  "nbformat_minor": 0,
  "metadata": {
    "colab": {
      "provenance": [],
      "gpuType": "T4"
    },
    "kernelspec": {
      "name": "python3",
      "display_name": "Python 3"
    },
    "language_info": {
      "name": "python"
    },
    "accelerator": "GPU"
  },
  "cells": [
    {
      "cell_type": "code",
      "metadata": {
        "colab": {
          "base_uri": "https://localhost:8080/"
        },
        "id": "GZn5rlm-0gPf",
        "outputId": "5210f5fc-33de-4c0d-f698-49eb5ba041a0"
      },
      "source": [
        "from google.colab import drive\n",
        "drive.mount('/content/drive')"
      ],
      "execution_count": null,
      "outputs": [
        {
          "output_type": "stream",
          "name": "stdout",
          "text": [
            "Mounted at /content/drive\n"
          ]
        }
      ]
    },
    {
      "cell_type": "markdown",
      "source": [
        "# Cài đặt Python"
      ],
      "metadata": {
        "id": "FWBf3FPHWApK"
      }
    },
    {
      "cell_type": "code",
      "metadata": {
        "colab": {
          "base_uri": "https://localhost:8080/"
        },
        "id": "fx00OVPOa_n7",
        "outputId": "510d2647-0d65-4bb7-f135-17c2dfac7ff0"
      },
      "source": [
        "pip install opencv-contrib-python"
      ],
      "execution_count": null,
      "outputs": [
        {
          "output_type": "stream",
          "name": "stdout",
          "text": [
            "Requirement already satisfied: opencv-contrib-python in /usr/local/lib/python3.10/dist-packages (4.10.0.84)\n",
            "Requirement already satisfied: numpy>=1.21.2 in /usr/local/lib/python3.10/dist-packages (from opencv-contrib-python) (1.26.4)\n"
          ]
        }
      ]
    },
    {
      "cell_type": "code",
      "source": [
        "import sys\n",
        "sys.version"
      ],
      "metadata": {
        "colab": {
          "base_uri": "https://localhost:8080/",
          "height": 37
        },
        "id": "QTkJ8mYuvhCG",
        "outputId": "3feac50b-fc9d-4680-a241-a0990717c751"
      },
      "execution_count": null,
      "outputs": [
        {
          "output_type": "execute_result",
          "data": {
            "text/plain": [
              "'3.10.12 (main, Sep 11 2024, 15:47:36) [GCC 11.4.0]'"
            ],
            "application/vnd.google.colaboratory.intrinsic+json": {
              "type": "string"
            }
          },
          "metadata": {},
          "execution_count": 3
        }
      ]
    },
    {
      "cell_type": "markdown",
      "source": [
        "# Cài đặt thư viện Fast Fourier Transform"
      ],
      "metadata": {
        "id": "QLkJYkMbZ2om"
      }
    },
    {
      "cell_type": "code",
      "metadata": {
        "colab": {
          "base_uri": "https://localhost:8080/"
        },
        "id": "U9-qPD-7Yw3W",
        "outputId": "50e92c53-a98b-43cd-eada-3fbab7d60e14"
      },
      "source": [
        "%%bash\n",
        "sudo apt-get install libfftw3-dev libfftw3-doc"
      ],
      "execution_count": null,
      "outputs": [
        {
          "output_type": "stream",
          "name": "stdout",
          "text": [
            "Reading package lists...\n",
            "Building dependency tree...\n",
            "Reading state information...\n",
            "The following additional packages will be installed:\n",
            "  libfftw3-bin libfftw3-double3 libfftw3-long3 libfftw3-quad3 libfftw3-single3\n",
            "Suggested packages:\n",
            "  libfftw3-3\n",
            "The following NEW packages will be installed:\n",
            "  libfftw3-bin libfftw3-dev libfftw3-doc libfftw3-double3 libfftw3-long3\n",
            "  libfftw3-quad3 libfftw3-single3\n",
            "0 upgraded, 7 newly installed, 0 to remove and 49 not upgraded.\n",
            "Need to get 4,916 kB of archives.\n",
            "After this operation, 26.1 MB of additional disk space will be used.\n",
            "Get:1 http://archive.ubuntu.com/ubuntu jammy/main amd64 libfftw3-double3 amd64 3.3.8-2ubuntu8 [770 kB]\n",
            "Get:2 http://archive.ubuntu.com/ubuntu jammy/main amd64 libfftw3-long3 amd64 3.3.8-2ubuntu8 [335 kB]\n",
            "Get:3 http://archive.ubuntu.com/ubuntu jammy/main amd64 libfftw3-quad3 amd64 3.3.8-2ubuntu8 [614 kB]\n",
            "Get:4 http://archive.ubuntu.com/ubuntu jammy/main amd64 libfftw3-single3 amd64 3.3.8-2ubuntu8 [800 kB]\n",
            "Get:5 http://archive.ubuntu.com/ubuntu jammy/main amd64 libfftw3-bin amd64 3.3.8-2ubuntu8 [35.5 kB]\n",
            "Get:6 http://archive.ubuntu.com/ubuntu jammy/main amd64 libfftw3-dev amd64 3.3.8-2ubuntu8 [2,101 kB]\n",
            "Get:7 http://archive.ubuntu.com/ubuntu jammy/main amd64 libfftw3-doc all 3.3.8-2ubuntu8 [262 kB]\n",
            "Fetched 4,916 kB in 2s (2,900 kB/s)\n",
            "Selecting previously unselected package libfftw3-double3:amd64.\r\n",
            "(Reading database ... \r(Reading database ... 5%\r(Reading database ... 10%\r(Reading database ... 15%\r(Reading database ... 20%\r(Reading database ... 25%\r(Reading database ... 30%\r(Reading database ... 35%\r(Reading database ... 40%\r(Reading database ... 45%\r(Reading database ... 50%\r(Reading database ... 55%\r(Reading database ... 60%\r(Reading database ... 65%\r(Reading database ... 70%\r(Reading database ... 75%\r(Reading database ... 80%\r(Reading database ... 85%\r(Reading database ... 90%\r(Reading database ... 95%\r(Reading database ... 100%\r(Reading database ... 123622 files and directories currently installed.)\r\n",
            "Preparing to unpack .../0-libfftw3-double3_3.3.8-2ubuntu8_amd64.deb ...\r\n",
            "Unpacking libfftw3-double3:amd64 (3.3.8-2ubuntu8) ...\r\n",
            "Selecting previously unselected package libfftw3-long3:amd64.\r\n",
            "Preparing to unpack .../1-libfftw3-long3_3.3.8-2ubuntu8_amd64.deb ...\r\n",
            "Unpacking libfftw3-long3:amd64 (3.3.8-2ubuntu8) ...\r\n",
            "Selecting previously unselected package libfftw3-quad3:amd64.\r\n",
            "Preparing to unpack .../2-libfftw3-quad3_3.3.8-2ubuntu8_amd64.deb ...\r\n",
            "Unpacking libfftw3-quad3:amd64 (3.3.8-2ubuntu8) ...\r\n",
            "Selecting previously unselected package libfftw3-single3:amd64.\r\n",
            "Preparing to unpack .../3-libfftw3-single3_3.3.8-2ubuntu8_amd64.deb ...\r\n",
            "Unpacking libfftw3-single3:amd64 (3.3.8-2ubuntu8) ...\r\n",
            "Selecting previously unselected package libfftw3-bin.\r\n",
            "Preparing to unpack .../4-libfftw3-bin_3.3.8-2ubuntu8_amd64.deb ...\r\n",
            "Unpacking libfftw3-bin (3.3.8-2ubuntu8) ...\r\n",
            "Selecting previously unselected package libfftw3-dev:amd64.\r\n",
            "Preparing to unpack .../5-libfftw3-dev_3.3.8-2ubuntu8_amd64.deb ...\r\n",
            "Unpacking libfftw3-dev:amd64 (3.3.8-2ubuntu8) ...\r\n",
            "Selecting previously unselected package libfftw3-doc.\r\n",
            "Preparing to unpack .../6-libfftw3-doc_3.3.8-2ubuntu8_all.deb ...\r\n",
            "Unpacking libfftw3-doc (3.3.8-2ubuntu8) ...\r\n",
            "Setting up libfftw3-single3:amd64 (3.3.8-2ubuntu8) ...\r\n",
            "Setting up libfftw3-long3:amd64 (3.3.8-2ubuntu8) ...\r\n",
            "Setting up libfftw3-quad3:amd64 (3.3.8-2ubuntu8) ...\r\n",
            "Setting up libfftw3-double3:amd64 (3.3.8-2ubuntu8) ...\r\n",
            "Setting up libfftw3-doc (3.3.8-2ubuntu8) ...\r\n",
            "Setting up libfftw3-bin (3.3.8-2ubuntu8) ...\r\n",
            "Setting up libfftw3-dev:amd64 (3.3.8-2ubuntu8) ...\r\n",
            "Processing triggers for man-db (2.10.2-1) ...\r\n",
            "Processing triggers for libc-bin (2.35-0ubuntu3.4) ...\r\n",
            "/sbin/ldconfig.real: /usr/local/lib/libtbbmalloc.so.2 is not a symbolic link\r\n",
            "\r\n",
            "/sbin/ldconfig.real: /usr/local/lib/libtbbbind.so.3 is not a symbolic link\r\n",
            "\r\n",
            "/sbin/ldconfig.real: /usr/local/lib/libtbbbind_2_5.so.3 is not a symbolic link\r\n",
            "\r\n",
            "/sbin/ldconfig.real: /usr/local/lib/libtbb.so.12 is not a symbolic link\r\n",
            "\r\n",
            "/sbin/ldconfig.real: /usr/local/lib/libur_adapter_opencl.so.0 is not a symbolic link\r\n",
            "\r\n",
            "/sbin/ldconfig.real: /usr/local/lib/libur_loader.so.0 is not a symbolic link\r\n",
            "\r\n",
            "/sbin/ldconfig.real: /usr/local/lib/libtbbmalloc_proxy.so.2 is not a symbolic link\r\n",
            "\r\n",
            "/sbin/ldconfig.real: /usr/local/lib/libur_adapter_level_zero.so.0 is not a symbolic link\r\n",
            "\r\n",
            "/sbin/ldconfig.real: /usr/local/lib/libtbbbind_2_0.so.3 is not a symbolic link\r\n",
            "\r\n"
          ]
        },
        {
          "output_type": "stream",
          "name": "stderr",
          "text": [
            "debconf: unable to initialize frontend: Dialog\n",
            "debconf: (No usable dialog-like program is installed, so the dialog based frontend cannot be used. at /usr/share/perl5/Debconf/FrontEnd/Dialog.pm line 78, <> line 7.)\n",
            "debconf: falling back to frontend: Readline\n",
            "debconf: unable to initialize frontend: Readline\n",
            "debconf: (This frontend requires a controlling tty.)\n",
            "debconf: falling back to frontend: Teletype\n",
            "dpkg-preconfigure: unable to re-open stdin: \n"
          ]
        }
      ]
    },
    {
      "cell_type": "code",
      "metadata": {
        "colab": {
          "base_uri": "https://localhost:8080/"
        },
        "id": "0e-oBRExX112",
        "outputId": "b398351b-e26a-4eb2-f7b1-833df3871f9b"
      },
      "source": [
        "%%bash\n",
        "cd /content/drive/MyDrive/Code/mlfw/\n",
        "#unzip pyleargist-python3-master.zip\n",
        "cd pyleargist-python3-master\n",
        "python setup.py install"
      ],
      "execution_count": null,
      "outputs": [
        {
          "output_type": "stream",
          "name": "stdout",
          "text": [
            "running install\n",
            "running bdist_egg\n",
            "running egg_info\n",
            "writing src/pyleargist.egg-info/PKG-INFO\n",
            "writing dependency_links to src/pyleargist.egg-info/dependency_links.txt\n",
            "writing top-level names to src/pyleargist.egg-info/top_level.txt\n",
            "reading manifest file 'src/pyleargist.egg-info/SOURCES.txt'\n",
            "reading manifest template 'MANIFEST.in'\n",
            "adding license file 'COPYING.txt'\n",
            "writing manifest file 'src/pyleargist.egg-info/SOURCES.txt'\n",
            "installing library code to build/bdist.linux-x86_64/egg\n",
            "running install_lib\n",
            "running build_ext\n",
            "Compiling src/leargist.pyx because it depends on /usr/local/lib/python3.10/dist-packages/Cython/Includes/libc/string.pxd.\n",
            "[1/1] Cythonizing src/leargist.pyx\n",
            "building 'leargist' extension\n",
            "x86_64-linux-gnu-gcc -Wno-unused-result -Wsign-compare -DNDEBUG -g -fwrapv -O2 -Wall -g -fstack-protector-strong -Wformat -Werror=format-security -g -fwrapv -O2 -fPIC -I/usr/local/lib/python3.10/dist-packages/numpy/core/include -Ilear_gist -I/usr/include/python3.10 -c lear_gist/gist.c -o build/temp.linux-x86_64-cpython-310/lear_gist/gist.o -DUSE_GIST -DSTANDALONE_GIST\n",
            "x86_64-linux-gnu-gcc -Wno-unused-result -Wsign-compare -DNDEBUG -g -fwrapv -O2 -Wall -g -fstack-protector-strong -Wformat -Werror=format-security -g -fwrapv -O2 -fPIC -I/usr/local/lib/python3.10/dist-packages/numpy/core/include -Ilear_gist -I/usr/include/python3.10 -c lear_gist/standalone_image.c -o build/temp.linux-x86_64-cpython-310/lear_gist/standalone_image.o -DUSE_GIST -DSTANDALONE_GIST\n",
            "x86_64-linux-gnu-gcc -Wno-unused-result -Wsign-compare -DNDEBUG -g -fwrapv -O2 -Wall -g -fstack-protector-strong -Wformat -Werror=format-security -g -fwrapv -O2 -fPIC -I/usr/local/lib/python3.10/dist-packages/numpy/core/include -Ilear_gist -I/usr/include/python3.10 -c src/leargist.c -o build/temp.linux-x86_64-cpython-310/src/leargist.o -DUSE_GIST -DSTANDALONE_GIST\n",
            "x86_64-linux-gnu-gcc -shared -Wl,-O1 -Wl,-Bsymbolic-functions -Wl,-Bsymbolic-functions -g -fwrapv -O2 build/temp.linux-x86_64-cpython-310/lear_gist/gist.o build/temp.linux-x86_64-cpython-310/lear_gist/standalone_image.o build/temp.linux-x86_64-cpython-310/src/leargist.o -L/usr/lib/x86_64-linux-gnu -lm -lfftw3f -o build/lib.linux-x86_64-cpython-310/leargist.cpython-310-x86_64-linux-gnu.so\n",
            "creating build/bdist.linux-x86_64/egg\n",
            "copying build/lib.linux-x86_64-cpython-310/leargist.cpython-310-x86_64-linux-gnu.so -> build/bdist.linux-x86_64/egg\n",
            "creating stub loader for leargist.cpython-310-x86_64-linux-gnu.so\n",
            "byte-compiling build/bdist.linux-x86_64/egg/leargist.py to leargist.cpython-310.pyc\n",
            "creating build/bdist.linux-x86_64/egg/EGG-INFO\n",
            "copying src/pyleargist.egg-info/PKG-INFO -> build/bdist.linux-x86_64/egg/EGG-INFO\n",
            "copying src/pyleargist.egg-info/PKG-INFO (1) -> build/bdist.linux-x86_64/egg/EGG-INFO\n",
            "copying src/pyleargist.egg-info/SOURCES (1).txt -> build/bdist.linux-x86_64/egg/EGG-INFO\n",
            "copying src/pyleargist.egg-info/SOURCES.txt -> build/bdist.linux-x86_64/egg/EGG-INFO\n",
            "copying src/pyleargist.egg-info/dependency_links (1).txt -> build/bdist.linux-x86_64/egg/EGG-INFO\n",
            "copying src/pyleargist.egg-info/dependency_links.txt -> build/bdist.linux-x86_64/egg/EGG-INFO\n",
            "copying src/pyleargist.egg-info/top_level (1).txt -> build/bdist.linux-x86_64/egg/EGG-INFO\n",
            "copying src/pyleargist.egg-info/top_level.txt -> build/bdist.linux-x86_64/egg/EGG-INFO\n",
            "writing build/bdist.linux-x86_64/egg/EGG-INFO/native_libs.txt\n",
            "creating 'dist/pyleargist-2.0.5-py3.10-linux-x86_64.egg' and adding 'build/bdist.linux-x86_64/egg' to it\n",
            "removing 'build/bdist.linux-x86_64/egg' (and everything under it)\n",
            "Processing pyleargist-2.0.5-py3.10-linux-x86_64.egg\n",
            "creating /usr/local/lib/python3.10/dist-packages/pyleargist-2.0.5-py3.10-linux-x86_64.egg\n",
            "Extracting pyleargist-2.0.5-py3.10-linux-x86_64.egg to /usr/local/lib/python3.10/dist-packages\n",
            "Adding pyleargist 2.0.5 to easy-install.pth file\n",
            "\n",
            "Installed /usr/local/lib/python3.10/dist-packages/pyleargist-2.0.5-py3.10-linux-x86_64.egg\n",
            "Processing dependencies for pyleargist==2.0.5\n",
            "Finished processing dependencies for pyleargist==2.0.5\n"
          ]
        },
        {
          "output_type": "stream",
          "name": "stderr",
          "text": [
            "/usr/local/lib/python3.10/dist-packages/setuptools/_distutils/cmd.py:66: SetuptoolsDeprecationWarning: setup.py install is deprecated.\n",
            "!!\n",
            "\n",
            "        ********************************************************************************\n",
            "        Please avoid running ``setup.py`` directly.\n",
            "        Instead, use pypa/build, pypa/installer or other\n",
            "        standards-based tools.\n",
            "\n",
            "        See https://blog.ganssle.io/articles/2021/10/setup-py-deprecated.html for details.\n",
            "        ********************************************************************************\n",
            "\n",
            "!!\n",
            "  self.initialize_options()\n",
            "/usr/local/lib/python3.10/dist-packages/setuptools/_distutils/cmd.py:66: EasyInstallDeprecationWarning: easy_install command is deprecated.\n",
            "!!\n",
            "\n",
            "        ********************************************************************************\n",
            "        Please avoid running ``setup.py`` and ``easy_install``.\n",
            "        Instead, use pypa/build, pypa/installer or other\n",
            "        standards-based tools.\n",
            "\n",
            "        See https://github.com/pypa/setuptools/issues/917 for details.\n",
            "        ********************************************************************************\n",
            "\n",
            "!!\n",
            "  self.initialize_options()\n",
            "/usr/local/lib/python3.10/dist-packages/Cython/Compiler/Main.py:381: FutureWarning: Cython directive 'language_level' not set, using '3str' for now (Py3). This has changed from earlier releases! File: /content/drive/MyDrive/Code/mlfw/pyleargist-python3-master/src/leargist.pxd\n",
            "  tree = Parsing.p_module(s, pxd, full_module_name)\n",
            "In file included from /usr/local/lib/python3.10/dist-packages/numpy/core/include/numpy/ndarraytypes.h:1929,\n",
            "                 from /usr/local/lib/python3.10/dist-packages/numpy/core/include/numpy/ndarrayobject.h:12,\n",
            "                 from /usr/local/lib/python3.10/dist-packages/numpy/core/include/numpy/arrayobject.h:5,\n",
            "                 from src/leargist.c:1285:\n",
            "/usr/local/lib/python3.10/dist-packages/numpy/core/include/numpy/npy_1_7_deprecated_api.h:17:2: warning: #warning \"Using deprecated NumPy API, disable it with \" \"#define NPY_NO_DEPRECATED_API NPY_1_7_API_VERSION\" [-Wcpp]\n",
            "   17 | #warning \"Using deprecated NumPy API, disable it with \" \\\n",
            "      |  ^~~~~~~\n",
            "zip_safe flag not set; analyzing archive contents...\n",
            "__pycache__.leargist.cpython-310: module references __file__\n"
          ]
        }
      ]
    },
    {
      "cell_type": "markdown",
      "source": [
        "# Kết nối tới gói phần mềm mlfw và chạy thử nghiệm\n"
      ],
      "metadata": {
        "id": "uZPbKKg5GVLA"
      }
    },
    {
      "cell_type": "code",
      "metadata": {
        "colab": {
          "base_uri": "https://localhost:8080/"
        },
        "id": "VMus3K_vWDcK",
        "outputId": "004f466a-8bcb-4e3f-f4c8-7e751b3ecb5c"
      },
      "source": [
        "%%bash\n",
        "cd /content/drive/MyDrive/Code/mlfw/\n",
        "python runner.py"
      ],
      "execution_count": null,
      "outputs": [
        {
          "output_type": "stream",
          "name": "stdout",
          "text": [
            "Indexing all the files in dataset /content/drive/MyDrive/Code/mlfw/train\n",
            "done.\n",
            "\n",
            "\n",
            "Indexing all the files in dataset /content/drive/MyDrive/Code/mlfw/test\n",
            "done.\n",
            "\n",
            "\n",
            "Text classification\n",
            "Training Naive Bayes classifier for text\n",
            "\n",
            "Testing Naive Bayes classifier for text\n",
            "\n",
            "Done in : 0.014070272445678711\n",
            "\n",
            "\n",
            "Nearest Neighbors:0.925:0.003214597702026367\n",
            "Linear SVM:0.875:0.36085081100463867\n",
            "RBF SVM:0.925:0.34873509407043457\n",
            "Decision Tree:0.7:0.002367734909057617\n",
            "Random Forest:0.575:0.01284170150756836\n",
            "Neural Net:0.9:0.36136531829833984\n",
            "AdaBoost:0.875:0.15063834190368652\n",
            "Naive Bayes:0.975:0.0019788742065429688\n",
            "Image classification\n",
            "Training Linear SVM classifier for image\n",
            "\n",
            "Testing Linear SVM classifier for image\n",
            "\n",
            "Done in : 0.5952389240264893\n",
            "\n",
            "\n",
            "Nearest Neighbors:0.65:0.12604093551635742\n",
            "Linear SVM:0.975:0.6893835067749023\n",
            "RBF SVM:0.525:22.491597890853882\n",
            "Decision Tree:0.85:0.13502144813537598\n",
            "Random Forest:0.775:0.027338266372680664\n",
            "Neural Net:0.975:5.896960735321045\n",
            "AdaBoost:0.8:0.1638321876525879\n",
            "Naive Bayes:0.95:0.16469621658325195\n",
            "Combined classification\n",
            "Indexing search data...\n",
            "bags_hobo_1\n",
            "bags_clutch_100\n",
            "bags_hobo_100\n",
            "bags_hobo_300\n",
            "bags_clutch_300\n",
            "bags_clutch_1\n",
            "bags_clutch_800\n",
            "bags_hobo_700\n",
            "bags_hobo_900\n",
            "bags_clutch_700\n",
            "bags_clutch_500\n",
            "bags_hobo_500\n",
            "bags_clutch_200\n",
            "bags_hobo_200\n",
            "bags_hobo_400\n",
            "bags_clutch_400\n",
            "bags_clutch_900\n",
            "bags_clutch_600\n",
            "bags_hobo_800\n",
            "bags_hobo_600\n",
            "womens_pumps_200\n",
            "womens_pumps_500\n",
            "womens_flats_900\n",
            "womens_pumps_700\n",
            "womens_pumps_300\n",
            "womens_pumps_400\n",
            "womens_flats_800\n",
            "womens_pumps_600\n",
            "womens_pumps_100\n",
            "womens_pumps_1\n",
            "womens_flats_1\n",
            "womens_flats_700\n",
            "womens_pumps_900\n",
            "womens_flats_200\n",
            "womens_flats_500\n",
            "womens_flats_600\n",
            "womens_flats_100\n",
            "womens_pumps_800\n",
            "womens_flats_300\n",
            "womens_flats_400\n",
            "Indexed files for given data set in  0.003112316131591797  seconds\n",
            "             file_id  text_class0  text_class1  ...  combined_class0  combined_class1  final_class\n",
            "0        bags_hobo_1     0.900265     0.099735  ...         0.926863         0.073137            1\n",
            "1    bags_clutch_100     0.659040     0.340960  ...         0.729722         0.270278            1\n",
            "2      bags_hobo_100     0.822573     0.177427  ...         0.892077         0.107923            1\n",
            "3      bags_hobo_300     0.886587     0.113413  ...         0.917668         0.082332            1\n",
            "4    bags_clutch_300     0.612739     0.387261  ...         0.683060         0.316940            1\n",
            "5      bags_clutch_1     0.817942     0.182058  ...         0.766524         0.233476            1\n",
            "6    bags_clutch_800     0.503499     0.496501  ...         0.502099         0.497901            1\n",
            "7      bags_hobo_700     0.822925     0.177075  ...         0.885938         0.114062            1\n",
            "8      bags_hobo_900     0.707373     0.292627  ...         0.814367         0.185633            1\n",
            "9    bags_clutch_700     0.587300     0.412700  ...         0.620395         0.379605            1\n",
            "10   bags_clutch_500     0.538781     0.461219  ...         0.670466         0.329534            1\n",
            "11     bags_hobo_500     0.700243     0.299757  ...         0.802767         0.197233            1\n",
            "12   bags_clutch_200     0.489596     0.510404  ...         0.678409         0.321591            1\n",
            "13     bags_hobo_200     0.803401     0.196599  ...         0.874519         0.125481            1\n",
            "14     bags_hobo_400     0.759817     0.240183  ...         0.821703         0.178297            1\n",
            "15   bags_clutch_400     0.576335     0.423665  ...         0.722792         0.277208            1\n",
            "16   bags_clutch_900     0.503499     0.496501  ...         0.635475         0.364525            1\n",
            "17   bags_clutch_600     0.612534     0.387466  ...         0.692653         0.307347            1\n",
            "18     bags_hobo_800     0.797566     0.202434  ...         0.875799         0.124201            1\n",
            "19     bags_hobo_600     0.759817     0.240183  ...         0.829727         0.170273            1\n",
            "20  womens_pumps_200     0.395851     0.604149  ...         0.277375         0.722625            2\n",
            "21  womens_pumps_500     0.397364     0.602636  ...         0.260191         0.739809            2\n",
            "22  womens_flats_900     0.381206     0.618794  ...         0.421091         0.578909            2\n",
            "23  womens_pumps_700     0.322771     0.677229  ...         0.213846         0.786154            2\n",
            "24  womens_pumps_300     0.424371     0.575629  ...         0.291161         0.708839            2\n",
            "25  womens_pumps_400     0.299031     0.700969  ...         0.218841         0.781159            2\n",
            "26  womens_flats_800     0.498448     0.501552  ...         0.331085         0.668915            2\n",
            "27  womens_pumps_600     0.323952     0.676048  ...         0.317345         0.682655            2\n",
            "28  womens_pumps_100     0.408339     0.591661  ...         0.322481         0.677519            2\n",
            "29    womens_pumps_1     0.404244     0.595756  ...         0.413882         0.586118            2\n",
            "30    womens_flats_1     0.386913     0.613087  ...         0.288015         0.711985            2\n",
            "31  womens_flats_700     0.346328     0.653672  ...         0.269823         0.730177            2\n",
            "32  womens_pumps_900     0.281902     0.718098  ...         0.182573         0.817427            2\n",
            "33  womens_flats_200     0.429860     0.570140  ...         0.379462         0.620538            2\n",
            "34  womens_flats_500     0.374267     0.625733  ...         0.238468         0.761532            2\n",
            "35  womens_flats_600     0.235353     0.764647  ...         0.168414         0.831586            2\n",
            "36  womens_flats_100     0.421252     0.578748  ...         0.265231         0.734769            2\n",
            "37  womens_pumps_800     0.293519     0.706481  ...         0.229408         0.770592            2\n",
            "38  womens_flats_300     0.378671     0.621329  ...         0.238282         0.761718            2\n",
            "39  womens_flats_400     0.319918     0.680082  ...         0.210994         0.789006            2\n",
            "\n",
            "[40 rows x 8 columns]\n",
            "Classification accuracy = 1.000000\n"
          ]
        },
        {
          "output_type": "stream",
          "name": "stderr",
          "text": [
            "2024-10-23 08:36:20.724819: E external/local_xla/xla/stream_executor/cuda/cuda_fft.cc:485] Unable to register cuFFT factory: Attempting to register factory for plugin cuFFT when one has already been registered\n",
            "2024-10-23 08:36:20.757142: E external/local_xla/xla/stream_executor/cuda/cuda_dnn.cc:8454] Unable to register cuDNN factory: Attempting to register factory for plugin cuDNN when one has already been registered\n",
            "2024-10-23 08:36:20.766751: E external/local_xla/xla/stream_executor/cuda/cuda_blas.cc:1452] Unable to register cuBLAS factory: Attempting to register factory for plugin cuBLAS when one has already been registered\n",
            "2024-10-23 08:36:20.790064: I tensorflow/core/platform/cpu_feature_guard.cc:210] This TensorFlow binary is optimized to use available CPU instructions in performance-critical operations.\n",
            "To enable the following instructions: AVX2 FMA, in other operations, rebuild TensorFlow with the appropriate compiler flags.\n",
            "2024-10-23 08:36:22.475073: W tensorflow/compiler/tf2tensorrt/utils/py_utils.cc:38] TF-TRT Warning: Could not find TensorRT\n",
            "/usr/local/lib/python3.10/dist-packages/sklearn/ensemble/_weight_boosting.py:527: FutureWarning: The SAMME.R algorithm (the default) is deprecated and will be removed in 1.6. Use the SAMME algorithm to circumvent this warning.\n",
            "  warnings.warn(\n",
            "/usr/local/lib/python3.10/dist-packages/sklearn/ensemble/_weight_boosting.py:527: FutureWarning: The SAMME.R algorithm (the default) is deprecated and will be removed in 1.6. Use the SAMME algorithm to circumvent this warning.\n",
            "  warnings.warn(\n",
            "/content/drive/MyDrive/Code/mlfw/processors.py:510: FutureWarning: Setting an item of incompatible dtype is deprecated and will raise an error in a future version of pandas. Value '0.9002647254421328' has dtype incompatible with int64, please explicitly cast to a compatible dtype first.\n",
            "  self.data_frame.loc[self.data_frame['file_id']==test_file_ids[i], 'text_class0'] = dists[i][0]\n",
            "/content/drive/MyDrive/Code/mlfw/processors.py:511: FutureWarning: Setting an item of incompatible dtype is deprecated and will raise an error in a future version of pandas. Value '0.09973527455786535' has dtype incompatible with int64, please explicitly cast to a compatible dtype first.\n",
            "  self.data_frame.loc[self.data_frame['file_id']==test_file_ids[i], 'text_class1'] = dists[i][1]\n",
            "/content/drive/MyDrive/Code/mlfw/processors.py:522: FutureWarning: Setting an item of incompatible dtype is deprecated and will raise an error in a future version of pandas. Value '0.966761185582334' has dtype incompatible with int64, please explicitly cast to a compatible dtype first.\n",
            "  self.data_frame.loc[self.data_frame['file_id']==test_file_ids[i], 'image_class0'] = dists[i][0]\n",
            "/content/drive/MyDrive/Code/mlfw/processors.py:523: FutureWarning: Setting an item of incompatible dtype is deprecated and will raise an error in a future version of pandas. Value '0.03323881441766588' has dtype incompatible with int64, please explicitly cast to a compatible dtype first.\n",
            "  self.data_frame.loc[self.data_frame['file_id']==test_file_ids[i], 'image_class1'] = dists[i][1]\n",
            "/content/drive/MyDrive/Code/mlfw/processors.py:533: FutureWarning: Setting an item of incompatible dtype is deprecated and will raise an error in a future version of pandas. Value '0.9268633094982133' has dtype incompatible with int64, please explicitly cast to a compatible dtype first.\n",
            "  self.data_frame.loc[index,'combined_class0'] = alpha*self.data_frame.at[index,'text_class0'] + (1.0-alpha)*self.data_frame.at[index,'image_class0']\n",
            "/content/drive/MyDrive/Code/mlfw/processors.py:534: FutureWarning: Setting an item of incompatible dtype is deprecated and will raise an error in a future version of pandas. Value '0.07313669050178556' has dtype incompatible with int64, please explicitly cast to a compatible dtype first.\n",
            "  self.data_frame.loc[index,'combined_class1'] = alpha*self.data_frame.at[index,'text_class1'] + (1.0-alpha)*self.data_frame.at[index,'image_class1']\n"
          ]
        }
      ]
    }
  ]
}